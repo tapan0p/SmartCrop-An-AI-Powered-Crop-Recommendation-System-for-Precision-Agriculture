{
 "cells": [
  {
   "cell_type": "code",
   "execution_count": 5,
   "metadata": {},
   "outputs": [
    {
     "data": {
      "text/plain": [
       "['.git',\n",
       " 'Backend',\n",
       " 'Dataset',\n",
       " 'EDA.ipynb',\n",
       " 'Figures',\n",
       " 'Label_Encoder',\n",
       " 'LICENSE',\n",
       " 'logistic_regression.py',\n",
       " 'main.ipynb',\n",
       " 'main.py',\n",
       " 'Models',\n",
       " 'pipeline.py',\n",
       " 'preprocessing.py',\n",
       " 'README.md',\n",
       " '__pycache__']"
      ]
     },
     "execution_count": 5,
     "metadata": {},
     "output_type": "execute_result"
    }
   ],
   "source": [
    "import os\n",
    "\n",
    "os.listdir('../')"
   ]
  }
 ],
 "metadata": {
  "kernelspec": {
   "display_name": "Python 3",
   "language": "python",
   "name": "python3"
  },
  "language_info": {
   "codemirror_mode": {
    "name": "ipython",
    "version": 3
   },
   "file_extension": ".py",
   "mimetype": "text/x-python",
   "name": "python",
   "nbconvert_exporter": "python",
   "pygments_lexer": "ipython3",
   "version": "3.11.7"
  }
 },
 "nbformat": 4,
 "nbformat_minor": 2
}
